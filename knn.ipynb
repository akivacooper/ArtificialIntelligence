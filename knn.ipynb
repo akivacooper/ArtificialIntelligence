{
  "nbformat": 4,
  "nbformat_minor": 0,
  "metadata": {
    "colab": {
      "provenance": [],
      "include_colab_link": true
    },
    "kernelspec": {
      "name": "python3",
      "display_name": "Python 3"
    },
    "language_info": {
      "name": "python"
    }
  },
  "cells": [
    {
      "cell_type": "markdown",
      "metadata": {
        "id": "view-in-github",
        "colab_type": "text"
      },
      "source": [
        "<a href=\"https://colab.research.google.com/github/akivacooper/ArtificialIntelligence/blob/main/knn.ipynb\" target=\"_parent\"><img src=\"https://colab.research.google.com/assets/colab-badge.svg\" alt=\"Open In Colab\"/></a>"
      ]
    },
    {
      "cell_type": "markdown",
      "metadata": {
        "id": "PELNEMlpx2Ri"
      },
      "source": [
        "Import the libraries math (for square root and absolute value) and pandas and numpy for reading csv files."
      ]
    },
    {
      "cell_type": "code",
      "metadata": {
        "id": "mkYTODtExydl"
      },
      "source": [
        "import math\n",
        "import pandas as pd\n",
        "import numpy as np"
      ],
      "execution_count": 34,
      "outputs": []
    },
    {
      "cell_type": "markdown",
      "metadata": {
        "id": "zCgb1pGFx8od"
      },
      "source": [
        "Make an untagged vector, point, and two tagged vectors, data1 and data2:"
      ]
    },
    {
      "cell_type": "code",
      "metadata": {
        "id": "Ifbww56byViT"
      },
      "source": [
        "point = [1, 0, 0, '?'] #(an unknown tag)\n",
        "data1 = [1, 1, 1, 'M']\n",
        "data2 = [1, 3, 0, 'F']\n"
      ],
      "execution_count": 2,
      "outputs": []
    },
    {
      "cell_type": "markdown",
      "metadata": {
        "id": "2hiHzqnsyhW2"
      },
      "source": [
        "Write code to separate the data (X) from the tag (Y).  Your output should be:\n",
        "\n",
        "The vector [1, 1, 1] has tag M\n",
        "\n",
        "The vector [1, 3, 0] has tag F\n"
      ]
    },
    {
      "cell_type": "code",
      "source": [
        "def print_vector(array):\n",
        "  print(\"The vector \" , array[0:-1], \" has tag \", array[-1])\n"
      ],
      "metadata": {
        "id": "u3atpVlZSekv"
      },
      "execution_count": 3,
      "outputs": []
    },
    {
      "cell_type": "code",
      "metadata": {
        "id": "CdgKt99HyaKT",
        "colab": {
          "base_uri": "https://localhost:8080/"
        },
        "outputId": "d654e8a0-9461-429b-ad69-9948b5ba2f16"
      },
      "source": [
        "print(\"The vector \" , data1[0:-1], \" has tag \", data1[-1])\n",
        "print(\"The vector \" , data2[0:-1], \" has tag \", data2[-1])"
      ],
      "execution_count": 4,
      "outputs": [
        {
          "output_type": "stream",
          "name": "stdout",
          "text": [
            "The vector  [1, 1, 1]  has tag  M\n",
            "The vector  [1, 3, 0]  has tag  F\n"
          ]
        }
      ]
    },
    {
      "cell_type": "markdown",
      "metadata": {
        "id": "Nknnav39yb8C"
      },
      "source": [
        "Now let's classify the point as either M or F.  We'll do this by setting k = 1 and using the Euclidean distance.  We'll define that as: "
      ]
    },
    {
      "cell_type": "code",
      "metadata": {
        "id": "gT0HxYoxzG_-"
      },
      "source": [
        "def euclideanDistance(instance1, instance2, length):\n",
        "   distance = 0\n",
        "   for x in range(length):\n",
        "         #print ('x is ' , x)\n",
        "         num1=float(instance1[x])\n",
        "         num2=float(instance2[x])\n",
        "         distance = distance + pow(num1-num2, 2)\n",
        "   return math.sqrt(distance)\n"
      ],
      "execution_count": 49,
      "outputs": []
    },
    {
      "cell_type": "markdown",
      "metadata": {
        "id": "RhO3w2O4zKG8"
      },
      "source": [
        "Now, find out the distance between data1 and point and data2 and point. Output what the tag should be using euclideanDistance."
      ]
    },
    {
      "cell_type": "code",
      "metadata": {
        "id": "rzHsm2KezPie",
        "colab": {
          "base_uri": "https://localhost:8080/"
        },
        "outputId": "07884050-952b-4fe9-8747-690dad229e9f"
      },
      "source": [
        "print(\"EucDis: data1 -> point | \" + str(euclideanDistance(data1,point,3)))\n",
        "print(\"EucDis: data2 -> point | \" + str(euclideanDistance(data2,point,3)))\n"
      ],
      "execution_count": 6,
      "outputs": [
        {
          "output_type": "stream",
          "name": "stdout",
          "text": [
            "EucDis: data1 -> point | 1.4142135623730951\n",
            "EucDis: data2 -> point | 3.0\n"
          ]
        }
      ]
    },
    {
      "cell_type": "markdown",
      "metadata": {
        "id": "bImk9yPazRCS"
      },
      "source": [
        "Now, let's get more data from a file, myFile.csv. This code will read it for us:"
      ]
    },
    {
      "cell_type": "code",
      "metadata": {
        "id": "xeInyfvYzbKj",
        "colab": {
          "base_uri": "https://localhost:8080/"
        },
        "outputId": "6f47bac4-28dd-418b-9a45-c6b9369a3f20"
      },
      "source": [
        "url = 'https://github.com/rosenfa/ai/blob/master/myFile.csv?raw=true'\n",
        "df=pd.read_csv(url,  header=0, error_bad_lines=False) \n",
        "#put data in dataset without header line\n",
        "dataset = np.array(df)"
      ],
      "execution_count": 7,
      "outputs": [
        {
          "output_type": "stream",
          "name": "stderr",
          "text": [
            "/usr/local/lib/python3.8/dist-packages/IPython/core/interactiveshell.py:3326: FutureWarning: The error_bad_lines argument has been deprecated and will be removed in a future version.\n",
            "\n",
            "\n",
            "  exec(code_obj, self.user_global_ns, self.user_ns)\n"
          ]
        }
      ]
    },
    {
      "cell_type": "markdown",
      "metadata": {
        "id": "X_1JLdAEzdhu"
      },
      "source": [
        "Show that you understand what you read by:\n",
        "\n",
        "1. Printing the first two vectors in the file\n",
        "2. Printing the Euclidean distance between those two vectors\n",
        "\n",
        "Here is some code which I think might help get you on your way!"
      ]
    },
    {
      "cell_type": "code",
      "metadata": {
        "id": "e4QT_37TzuWr",
        "colab": {
          "base_uri": "https://localhost:8080/"
        },
        "outputId": "2372afb9-844f-4f6c-df32-b2c63030230a"
      },
      "source": [
        "print(len(dataset))\n",
        "print(euclideanDistance(dataset[0],dataset[1],3))"
      ],
      "execution_count": 8,
      "outputs": [
        {
          "output_type": "stream",
          "name": "stdout",
          "text": [
            "10\n",
            "5.744562646538029\n"
          ]
        }
      ]
    },
    {
      "cell_type": "code",
      "source": [
        "print(\"first vector: \")\n",
        "print_vector(dataset[0])\n",
        "print()\n",
        "print(\"second vector: \")\n",
        "print_vector(dataset[1])\n",
        "print()\n",
        "print(\"distance: \" + str(euclideanDistance(dataset[0], dataset[1],3)))"
      ],
      "metadata": {
        "id": "NgAV_njLSVv6",
        "outputId": "a6816b20-7cf1-41d3-9252-052d36d620c9",
        "colab": {
          "base_uri": "https://localhost:8080/"
        }
      },
      "execution_count": 9,
      "outputs": [
        {
          "output_type": "stream",
          "name": "stdout",
          "text": [
            "first vector: \n",
            "The vector  [0 1 2]  has tag  F\n",
            "\n",
            "second vector: \n",
            "The vector  [1 5 6]  has tag  F\n",
            "\n",
            "distance: 5.744562646538029\n"
          ]
        }
      ]
    },
    {
      "cell_type": "markdown",
      "metadata": {
        "id": "Mw03nhZuEyUw"
      },
      "source": [
        "Now assume you have a new value for point:\n",
        "\n",
        "[0,0,100]\n",
        "\n",
        "How would you classify this vector using the Euclidean distance function given all of the vectors in the file?\n",
        "\n",
        "In order to help here is a hint:  \n",
        "\n",
        "We suggest defining some type of data struction to store different vectors' distances and their tags like this:"
      ]
    },
    {
      "cell_type": "code",
      "source": [
        "point = [0, 0, 100, '?']"
      ],
      "metadata": {
        "id": "upW5fdfZuRIZ"
      },
      "execution_count": 12,
      "outputs": []
    },
    {
      "cell_type": "code",
      "metadata": {
        "id": "oh8ym0_SE7Rb"
      },
      "source": [
        "class distClass:\n",
        "    dist = -1 #distance of current point from test point\n",
        "    tag = '-' #tag of current point\n"
      ],
      "execution_count": 13,
      "outputs": []
    },
    {
      "cell_type": "markdown",
      "metadata": {
        "id": "-KZR5lxOFP2v"
      },
      "source": [
        "You can then add vector distances like this:"
      ]
    },
    {
      "cell_type": "code",
      "metadata": {
        "colab": {
          "base_uri": "https://localhost:8080/"
        },
        "id": "hdFwOHcCFScU",
        "outputId": "b6257fb7-f5d8-456e-9ae4-78630e77d3bd"
      },
      "source": [
        "eucDistances = [] # list of distances, will hold objects of type distClass\n",
        "\n",
        "temp=dataset[1]\n",
        "label=temp[-1]\n",
        "d=euclideanDistance(point,temp,3)\n",
        "print(\"The distances between \" , point , \" and \" , temp,  \" is \" , str(d))\n",
        "print(\" and the label is \" + label)\n",
        "obj = distClass() #one record's distance and tag\n",
        "obj.dist=d\n",
        "obj.tag=label\n",
        "eucDistances.append(obj)\n"
      ],
      "execution_count": 14,
      "outputs": [
        {
          "output_type": "stream",
          "name": "stdout",
          "text": [
            "The distances between  [0, 0, 100, '?']  and  [1 5 6 'F']  is  94.13819628609845\n",
            " and the label is F\n"
          ]
        }
      ]
    },
    {
      "cell_type": "code",
      "metadata": {
        "colab": {
          "base_uri": "https://localhost:8080/"
        },
        "id": "OTJBcLSJa8SR",
        "outputId": "bc0f83a2-7838-4107-e470-88a9667caf86"
      },
      "source": [
        "eucDistances[0].dist"
      ],
      "execution_count": 15,
      "outputs": [
        {
          "output_type": "execute_result",
          "data": {
            "text/plain": [
              "94.13819628609845"
            ]
          },
          "metadata": {},
          "execution_count": 15
        }
      ]
    },
    {
      "cell_type": "markdown",
      "metadata": {
        "id": "67seTigUFbW7"
      },
      "source": [
        "and sort them like this:"
      ]
    },
    {
      "cell_type": "code",
      "metadata": {
        "id": "J0rEdJXKFctw"
      },
      "source": [
        "eucDistances.sort(key=lambda x: x.dist) "
      ],
      "execution_count": 16,
      "outputs": []
    },
    {
      "cell_type": "markdown",
      "metadata": {
        "id": "eWzp7vM9FgLm"
      },
      "source": [
        "Questions:\n",
        "\n",
        "1. What is the label for point if k=1?\n",
        "2. What is the label for point if k=3?\n",
        "3. Would the result be different if we used a different distance function like Hamming or Manhattan?"
      ]
    },
    {
      "cell_type": "code",
      "source": [
        "def manhattanDistance(instance1, instance2, length):\n",
        "   distance = 0\n",
        "   for x in range(length):\n",
        "         #print ('x is ' , x)\n",
        "         num1=float(instance1[x])\n",
        "         num2=float(instance2[x])\n",
        "         distance = distance + abs(num1 - num2)\n",
        "   return distance\n",
        "\n",
        "\n",
        "def hammingDistance(instance1, instance2, length):\n",
        "   distance = 0\n",
        "   for x in range(length):\n",
        "         #print ('x is ' , x)\n",
        "         num1=float(instance1[x])\n",
        "         num2=float(instance2[x])\n",
        "         distance += int(num1 != num2)\n",
        "   return distance"
      ],
      "metadata": {
        "id": "bClUt0hqYoHJ"
      },
      "execution_count": 17,
      "outputs": []
    },
    {
      "cell_type": "code",
      "source": [
        "def getEucDistances(trainData, unknownPoint, length):\n",
        "  myEucDistances = []\n",
        "  myEucDistances.clear()\n",
        "  for x in range(len(trainData)):\n",
        "    temp=trainData[x]\n",
        "    label=temp[-1]\n",
        "    d=euclideanDistance(unknownPoint,temp,length)\n",
        "    # print(\"The distances between \" , point , \" and \" , temp,  \" is \" , str(d))\n",
        "    # print(\" and the label is \" + label)\n",
        "    obj = distClass() #one record's distance and tag\n",
        "    obj.dist=d\n",
        "    obj.tag=label\n",
        "    myEucDistances.append(obj)\n",
        "  return myEucDistances\n",
        "\n",
        "def getHamDistances(trainData, unknownPoint,length):\n",
        "  myHamDistances = []\n",
        "  myHamDistances.clear()\n",
        "  for x in range(len(trainData)):\n",
        "    temp=trainData[x]\n",
        "    label=temp[-1]\n",
        "    d=hammingDistance(unknownPoint,temp,length)\n",
        "    # print(\"The distances between \" , point , \" and \" , temp,  \" is \" , str(d))\n",
        "    # print(\" and the label is \" + label)\n",
        "    obj = distClass() #one record's distance and tag\n",
        "    obj.dist=d\n",
        "    obj.tag=label\n",
        "    myHamDistances.append(obj)\n",
        "  return myHamDistances\n",
        "\n",
        "def getManDistances(trainData, unknownPoint,length):\n",
        "  myManDistances = []\n",
        "  myManDistances.clear()\n",
        "  for x in range(len(trainData)):\n",
        "    temp=trainData[x]\n",
        "    label=temp[-1]\n",
        "    d=manhattanDistance(unknownPoint,temp,length)\n",
        "    # print(\"The distances between \" , point , \" and \" , temp,  \" is \" , str(d))\n",
        "    # print(\" and the label is \" + label)\n",
        "    obj = distClass() #one record's distance and tag\n",
        "    obj.dist=d\n",
        "    obj.tag=label\n",
        "    myManDistances.append(obj)  \n",
        "  return myManDistances"
      ],
      "metadata": {
        "id": "b6usHZ0YboEP"
      },
      "execution_count": 35,
      "outputs": []
    },
    {
      "cell_type": "code",
      "source": [
        "def getKClosest(k, distances):\n",
        "  \n",
        "  distances.sort(key=lambda x: x.dist) \n",
        "  \n",
        "  firstSeenTag = distances[0].tag\n",
        "  secondSeenTag = ''\n",
        "  firstSeenTagCount = 0\n",
        "  secondSeenTagCount = 0\n",
        "  \n",
        "  for x in range(k):\n",
        "    curTag = distances[x].tag\n",
        "    #print(\"current tag: \" + curTag)\n",
        "    if (curTag == firstSeenTag):\n",
        "      firstSeenTagCount += 1\n",
        "    else:\n",
        "      secondSeenTag = curTag\n",
        "      secondSeenTagCount += 1\n",
        "  \n",
        "  if (firstSeenTagCount > secondSeenTagCount):\n",
        "    return firstSeenTag\n",
        "  return secondSeenTag"
      ],
      "metadata": {
        "id": "HuZM9y4sdK-s"
      },
      "execution_count": 36,
      "outputs": []
    },
    {
      "cell_type": "code",
      "metadata": {
        "id": "tbHJ5OS5GeCw"
      },
      "source": [
        "#Add code with functions that implement Hamming and Manhattan distances and test \n",
        "#what the label will be for k=1 and k=3 for all possibilities \n",
        "#(6 total: 2 Euclidean, 2 Hamming and 2 Manhattan)"
      ],
      "execution_count": 37,
      "outputs": []
    },
    {
      "cell_type": "code",
      "source": [
        "myEucDistances = getEucDistances(dataset, point,3)\n",
        "myHamDistances = getManDistances(dataset, point,3)\n",
        "myManDistances = getHamDistances(dataset, point,3)\n",
        "\n",
        "\n",
        "euc1 = getKClosest(1, myEucDistances)\n",
        "euc3 = getKClosest(3, myEucDistances)\n",
        "\n",
        "ham1 = getKClosest(1, myHamDistances)\n",
        "ham3 = getKClosest(3, myHamDistances)\n",
        "\n",
        "man1 = getKClosest(1, myManDistances)\n",
        "man3 = getKClosest(3, myManDistances)\n",
        "\n",
        "\n",
        "print(\"euclidean distance | k = 1 | \" + euc1);\n",
        "print(\"euclidean distance | k = 3 | \" + euc3);\n",
        "print()\n",
        "\n",
        "print(\"hamming distance | k = 1 | \" + ham1);\n",
        "print(\"hamming distance | k = 3 | \" + ham3);\n",
        "print()\n",
        "\n",
        "print(\"manhattan distance | k = 1 | \" + man1);\n",
        "print(\"manhattan distance | k = 3 | \" + man3);\n",
        "print()\n"
      ],
      "metadata": {
        "colab": {
          "base_uri": "https://localhost:8080/"
        },
        "id": "E37cXco4Wml4",
        "outputId": "b36e2c21-3646-4da3-d721-3379c4d9b2dd"
      },
      "execution_count": 38,
      "outputs": [
        {
          "output_type": "stream",
          "name": "stdout",
          "text": [
            "euclidean distance | k = 1 | M\n",
            "euclidean distance | k = 3 | M\n",
            "\n",
            "hamming distance | k = 1 | M\n",
            "hamming distance | k = 3 | F\n",
            "\n",
            "manhattan distance | k = 1 | F\n",
            "manhattan distance | k = 3 | F\n",
            "\n"
          ]
        }
      ]
    },
    {
      "cell_type": "markdown",
      "metadata": {
        "id": "o-XsqlSRVyEX"
      },
      "source": [
        "Up until here is a simplified version of the homework.\n",
        "Below here is the work for the part we will be checking as the basis of your grade: "
      ]
    },
    {
      "cell_type": "markdown",
      "metadata": {
        "id": "7KPzkCfLGxDK"
      },
      "source": [
        "Now let's look at some bigger files: \n",
        "\n",
        "1. mytrain.csv (for training the model)\n",
        "2. mytest.csv (for testing)\n"
      ]
    },
    {
      "cell_type": "code",
      "metadata": {
        "id": "menQ9SEoG_Ag",
        "colab": {
          "base_uri": "https://localhost:8080/"
        },
        "outputId": "3afcd255-d467-4beb-be2b-ee88fa9dd657"
      },
      "source": [
        "url = 'https://github.com/rosenfa/ai/blob/master/mytrain.csv?raw=true'\n",
        "train_data = np.array(pd.read_csv(url,  header=0, error_bad_lines=False))\n",
        "url = 'https://github.com/rosenfa/ai/blob/master/mytest.csv?raw=true'\n",
        "test_data = np.array(pd.read_csv(url,  header=0, error_bad_lines=False))"
      ],
      "execution_count": 39,
      "outputs": [
        {
          "output_type": "stream",
          "name": "stderr",
          "text": [
            "/usr/local/lib/python3.8/dist-packages/IPython/core/interactiveshell.py:3326: FutureWarning: The error_bad_lines argument has been deprecated and will be removed in a future version.\n",
            "\n",
            "\n",
            "  exec(code_obj, self.user_global_ns, self.user_ns)\n"
          ]
        }
      ]
    },
    {
      "cell_type": "code",
      "metadata": {
        "id": "ej1wLymKHPnT",
        "colab": {
          "base_uri": "https://localhost:8080/"
        },
        "outputId": "f67715fe-109e-4ad3-f842-26764aeb79ba"
      },
      "source": [
        "print(train_data.shape)# number of records and features\n",
        "print(train_data)"
      ],
      "execution_count": 40,
      "outputs": [
        {
          "output_type": "stream",
          "name": "stdout",
          "text": [
            "(100, 30)\n",
            "[[0.317251 0.540016 0.150514 ... 0.0 0.212007 'F']\n",
            " [3.882181 0.0 0.0 ... 0.0 0.0 'F']\n",
            " [1.790708 0.0 0.0 ... 0.0 0.0 'F']\n",
            " ...\n",
            " [0.0 0.0 0.0 ... 0.0 0.0 'M']\n",
            " [0.0 0.0 0.0 ... 0.0 0.0 'M']\n",
            " [0.0 0.0 0.0 ... 0.0 0.0 'F']]\n"
          ]
        }
      ]
    },
    {
      "cell_type": "code",
      "metadata": {
        "id": "v9YKMlcPHVWU",
        "colab": {
          "base_uri": "https://localhost:8080/"
        },
        "outputId": "1215e3aa-0989-47cd-b7c4-c14586a94f30"
      },
      "source": [
        "print(test_data.shape)# number of records and features\n",
        "print(test_data)"
      ],
      "execution_count": 41,
      "outputs": [
        {
          "output_type": "stream",
          "name": "stdout",
          "text": [
            "(100, 30)\n",
            "[[2.85985 0.66275 0.0 ... 0.995289 0.0 'F']\n",
            " [0.0 12.998726 0.0 ... 0.0 0.0 'F']\n",
            " [13.231318 0.0 0.0 ... 0.0 0.0 'F']\n",
            " ...\n",
            " [0.0 0.0 0.0 ... 0.0 0.0 'M']\n",
            " [1.688611 0.0 3.204529 ... 0.0 0.0 'M']\n",
            " [0.0 0.0 0.0 ... 0.0 0.0 'M']]\n"
          ]
        }
      ]
    },
    {
      "cell_type": "markdown",
      "metadata": {
        "id": "hsjBpdObIB7d"
      },
      "source": [
        "I hope by now you understand where we are going with this :)\n",
        "\n",
        "Now implement the knn code with 3 different values for k:\n",
        "1. k = 1\n",
        "2. k = 7\n",
        "3. k = 15\n",
        "\n",
        "and at first use the Euclidean distance.\n",
        "Classify each of the vectors in the test_data dataset using the training data from train_data.  Which value for k did the best?  What accuracy did it give you?\n",
        "\n",
        "Now see if using Hamming or Manhattan distance give any better results for the same values of k.  \n",
        "\n",
        "Once you are done, you should have a total of 9 different results:\n",
        "\n",
        "1. Three results for the different value of k using the Euclidean Distance\n",
        "2. Three results for the different value of k using the Hamming Distance\n",
        "3. Three results for the different value of k using the Manhattan Distance\n",
        "\n",
        "Hint: I strongly suggest you base yourself on the code you've seen until this point so you don't have to reinvent the wheel!"
      ]
    },
    {
      "cell_type": "code",
      "metadata": {
        "id": "dIyZbN4kJBrO",
        "colab": {
          "base_uri": "https://localhost:8080/"
        },
        "outputId": "eacda397-aac5-4219-95ca-2e6613a453d8"
      },
      "source": [
        "#Add code here\n",
        "\n",
        "kOneCorrect = 0\n",
        "kSevenCorrect = 0\n",
        "kFifteenCorrect = 0\n",
        "\n",
        "for x in range(len(test_data)):\n",
        "\n",
        "  unknownPoint = test_data[x]\n",
        "  correctFlag = unknownPoint[-1]\n",
        "\n",
        "  myEucDistances = getEucDistances(train_data, unknownPoint, 29)\n",
        "\n",
        "  if getKClosest(1, myEucDistances) == correctFlag:\n",
        "    kOneCorrect += 1\n",
        "  if getKClosest(7, myEucDistances) == correctFlag:\n",
        "    kSevenCorrect += 1\n",
        "  if getKClosest(15, myEucDistances) == correctFlag:\n",
        "    kFifteenCorrect +=1\n",
        "\n",
        "print(\"Euclidean Results\")\n",
        "print(\"accuracy for k = 1 | \" + str(kOneCorrect) + \"%\")\n",
        "print(\"accuracy for k = 7 | \" + str(kSevenCorrect)+ \"%\")\n",
        "print(\"accuracy for k = 15 | \" + str(kFifteenCorrect)+ \"%\")\n",
        "print()\n",
        "\n",
        "kOneCorrect = 0\n",
        "kSevenCorrect = 0\n",
        "kFifteenCorrect = 0\n",
        "\n",
        "for x in range(len(test_data)):\n",
        "\n",
        "  unknownPoint = test_data[x]\n",
        "  correctFlag = unknownPoint[-1]\n",
        "\n",
        "  myHamDistances = getHamDistances(train_data, unknownPoint, 29)\n",
        "\n",
        "  if getKClosest(1, myHamDistances) == correctFlag:\n",
        "    kOneCorrect += 1\n",
        "  if getKClosest(7, myHamDistances) == correctFlag:\n",
        "    kSevenCorrect += 1\n",
        "  if getKClosest(15, myHamDistances) == correctFlag:\n",
        "    kFifteenCorrect +=1\n",
        "\n",
        "print(\"Hamming Results\")\n",
        "print(\"accuracy for k = 1 | \" + str(kOneCorrect) + \"%\")\n",
        "print(\"accuracy for k = 7 | \" + str(kSevenCorrect)+ \"%\")\n",
        "print(\"accuracy for k = 15 | \" + str(kFifteenCorrect)+ \"%\")\n",
        "print()\n",
        "\n",
        "kOneCorrect = 0\n",
        "kSevenCorrect = 0\n",
        "kFifteenCorrect = 0\n",
        "\n",
        "for x in range(len(test_data)):\n",
        "\n",
        "  unknownPoint = test_data[x]\n",
        "  correctFlag = unknownPoint[-1]\n",
        "\n",
        "  myManDistances = getManDistances(train_data, unknownPoint, 29)\n",
        "\n",
        "  if getKClosest(1, myManDistances) == correctFlag:\n",
        "    kOneCorrect += 1\n",
        "  if getKClosest(7, myManDistances) == correctFlag:\n",
        "    kSevenCorrect += 1\n",
        "  if getKClosest(15, myManDistances) == correctFlag:\n",
        "    kFifteenCorrect +=1\n",
        "\n",
        "print(\"Manhattan Results\")\n",
        "print(\"accuracy for k = 1 | \" + str(kOneCorrect) + \"%\")\n",
        "print(\"accuracy for k = 7 | \" + str(kSevenCorrect)+ \"%\")\n",
        "print(\"accuracy for k = 15 | \" + str(kFifteenCorrect)+ \"%\")\n",
        "print()"
      ],
      "execution_count": 52,
      "outputs": [
        {
          "output_type": "stream",
          "name": "stdout",
          "text": [
            "Euclidean Results\n",
            "accuracy for k = 1 | 50%\n",
            "accuracy for k = 7 | 74%\n",
            "accuracy for k = 15 | 70%\n",
            "\n",
            "Hamming Results\n",
            "accuracy for k = 1 | 61%\n",
            "accuracy for k = 7 | 55%\n",
            "accuracy for k = 15 | 57%\n",
            "\n",
            "Manhattan Results\n",
            "accuracy for k = 1 | 61%\n",
            "accuracy for k = 7 | 63%\n",
            "accuracy for k = 15 | 69%\n",
            "\n"
          ]
        }
      ]
    },
    {
      "cell_type": "markdown",
      "source": [
        "Which value for k did the best? \n",
        "1. Euclidean, k = 7\n",
        "2. Hamming, k = 1\n",
        "3. Manhattan, k = 15\n",
        "\n",
        "What accuracy did it give you?\n",
        "1. Euclidean, k = 7, accuracy = 74%\n",
        "2. Hamming, k = 1, accuracy = 61%\n",
        "3. Manhattan, k = 15, accuracy = 69%"
      ],
      "metadata": {
        "id": "a-9OQLEh7zHs"
      }
    },
    {
      "cell_type": "markdown",
      "metadata": {
        "id": "HD2PnNuTQ175"
      },
      "source": [
        "Grade Basis:\n",
        "\n",
        "80% for correct answers (and yes, there are possibilities that multiple answers are correct-- especially for cases of ties).\n",
        "\n",
        "20% : Documentation and easily readable code\n",
        "\n",
        "Please publish your final Notebook in your Github directory.\n",
        "\n",
        "The homework assignment is due by November 30th.\n"
      ]
    }
  ]
}